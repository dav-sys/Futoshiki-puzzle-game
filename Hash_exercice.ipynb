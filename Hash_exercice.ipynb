{
  "nbformat": 4,
  "nbformat_minor": 0,
  "metadata": {
    "colab": {
      "name": "Hash exercice.ipynb",
      "provenance": [],
      "collapsed_sections": [],
      "include_colab_link": true
    },
    "kernelspec": {
      "name": "python3",
      "display_name": "Python 3"
    },
    "language_info": {
      "name": "python"
    }
  },
  "cells": [
    {
      "cell_type": "markdown",
      "metadata": {
        "id": "view-in-github",
        "colab_type": "text"
      },
      "source": [
        "<a href=\"https://colab.research.google.com/github/dav-sys/Futoshiki-puzzle-game/blob/main/Hash_exercice.ipynb\" target=\"_parent\"><img src=\"https://colab.research.google.com/assets/colab-badge.svg\" alt=\"Open In Colab\"/></a>"
      ]
    },
    {
      "cell_type": "markdown",
      "metadata": {
        "id": "c4s2pVu1rKe0"
      },
      "source": [
        "# Welcome to the challenge!\n",
        "\n",
        "This challenge was designed to test your creativity in an unconventional scenario. There are three lists with varying levels of difficulty, `hashes_easy`, `hashes_medium`, and `hashes_hard`. \n",
        "Your job is to find out, or approximate as best as you can the hidden hash function. These functions are purely made of a combination of binary operations.\n",
        "\n",
        "Example of a hash function:\n",
        "```python\n",
        "def hash_function_test(x):\n",
        "  return x & 2\n",
        "\n",
        "# you only get the `hashes_test`\n",
        "hashes_test = [hash_function_test(x) for x in range(2048)]\n",
        "```\n",
        "\n",
        "## Solution's format\n",
        "You can use any amount of precomputation you want.\n",
        "However, the solution must be thought of as entirely standalone. Any resources you use, whether that be helper functions, vectors of coefficients, or anything else must be included in the function's scope\n",
        "\n",
        "e.g.\n",
        "```python\n",
        "def solution(x):\n",
        "  # some_utility must be defined inside the solution function\n",
        "  def some_utility(y):\n",
        "    return y*2\n",
        "  \n",
        "  # same for constants\n",
        "  coefficients = [1,2,3,4]\n",
        "  \n",
        "  return some_utility(x) * coefficients[x%4]\n",
        "```\n",
        "\n",
        "You can only assume that `numpy` is imported (as `np`), however you can install arbitrary packages using \n",
        "`!pip install package` and use them for your precomputation.\n",
        "\n",
        "## Scoring\n",
        "Your score is based on the __length__ (in characters!) of the solution you provide, together with the proximity to the ground truth. Special characters are not counted (newlines, spaces, tabs, general symbols), and the first 100 characters are also not counted. To see the exact definition of the score, check the code of the `evaluate` function. **Please document your approach** as it will strongly be considered in our evaluation, even if it doesn't score very well.\n",
        "\n",
        "## Submission\n",
        "To start working, duplicate this notebook to your drive or download it and work on it in locally.\n",
        "To submit your participation, upload the final `.ipynb` file to the application form. \n",
        "\n",
        "Good luck!\n"
      ]
    },
    {
      "cell_type": "code",
      "metadata": {
        "execution": {
          "iopub.execute_input": "2021-06-30T14:16:47.855515Z",
          "iopub.status.busy": "2021-06-30T14:16:47.855215Z",
          "iopub.status.idle": "2021-06-30T14:16:49.267941Z",
          "shell.execute_reply": "2021-06-30T14:16:49.265372Z",
          "shell.execute_reply.started": "2021-06-30T14:16:47.855483Z"
        },
        "id": "RhmLd5EwU-TV"
      },
      "source": [
        "!pip install numpy"
      ],
      "execution_count": null,
      "outputs": []
    },
    {
      "cell_type": "code",
      "metadata": {
        "execution": {
          "iopub.execute_input": "2021-06-30T13:55:24.272120Z",
          "iopub.status.busy": "2021-06-30T13:55:24.271719Z",
          "iopub.status.idle": "2021-06-30T13:55:24.276539Z",
          "shell.execute_reply": "2021-06-30T13:55:24.275530Z",
          "shell.execute_reply.started": "2021-06-30T13:55:24.272078Z"
        },
        "id": "lMdPGiSQU-Tc"
      },
      "source": [
        "import numpy as np\n",
        "import inspect\n",
        "import regex\n",
        "import json\n",
        "from typing import List, Callable, Union"
      ],
      "execution_count": null,
      "outputs": []
    },
    {
      "cell_type": "code",
      "metadata": {
        "id": "qoCx5iK3v8jG"
      },
      "source": [
        "ignored_characters = regex.compile(\"[^A-Za-z0-9\\,\\;]\")\n",
        "\n",
        "def compute_prediction_score(truth: List[int], solution: Callable[[int], int]) -> float:\n",
        "    prediction_score = 0\n",
        "    for i in range(len(truth)):\n",
        "        distance = np.abs(truth[i] - solution(i))\n",
        "        prediction_score += (10-distance) if distance < 10 else 0\n",
        "    prediction_score /= len(truth)\n",
        "    return prediction_score\n",
        "\n",
        "def evaluate(truth: List[int], solution: Callable[[int], int]) -> float:\n",
        "    \"\"\" \n",
        "    Returns the loss of a solution \n",
        "    :param truth: array of ground truth hashes\n",
        "    :param solution:  solution function, which takes an index and returns the \n",
        "                      predicted hash\n",
        "\n",
        "    :return: the score as a float in the range [0,10]\n",
        "    \"\"\"\n",
        "    prediction_score = compute_prediction_score(truth, solution)\n",
        "    \n",
        "    print(\"Average prediction score: \", prediction_score)\n",
        "    \n",
        "    # remove `def function_name(x):` from the source\n",
        "    source = inspect.getsource(solution)\n",
        "    source = source[source.index(\":\")+1:]\n",
        "\n",
        "    length_score = len(source) - len(ignored_characters.findall(source))\n",
        "    length_score -= 100\n",
        "    length_score /= 100\n",
        "    length_score = length_score if length_score > 1.0 else 1.0\n",
        "    \n",
        "    print(\"Length score: \", length_score)\n",
        "    \n",
        "    score = prediction_score / length_score\n",
        "    print(\"Final score: \", score)\n",
        "    return score"
      ],
      "execution_count": null,
      "outputs": []
    },
    {
      "cell_type": "code",
      "metadata": {
        "id": "zzcziGzRoaBm",
        "colab": {
          "base_uri": "https://localhost:8080/"
        },
        "outputId": "57e065f9-100b-4cfa-9137-2a29145c28aa"
      },
      "source": [
        "!curl -O https://x80-public.s3.eu-west-3.amazonaws.com/hashes.json"
      ],
      "execution_count": null,
      "outputs": [
        {
          "output_type": "stream",
          "text": [
            "  % Total    % Received % Xferd  Average Speed   Time    Time     Time  Current\n",
            "                                 Dload  Upload   Total   Spent    Left  Speed\n",
            "100  4496  100  4496    0     0   7406      0 --:--:-- --:--:-- --:--:--  7394\n"
          ],
          "name": "stdout"
        }
      ]
    },
    {
      "cell_type": "code",
      "metadata": {
        "id": "BCC-v78WmlNb"
      },
      "source": [
        "with open(\"hashes.json\", \"r\") as f:\n",
        "  hashes = json.loads(f.read())\n",
        "hashes_easy, hashes_medium, hashes_hard, over_9000 = hashes[\"hashes_easy\"], hashes[\"hashes_medium\"], hashes[\"hashes_hard\"], hashes[\"over_9000\"]"
      ],
      "execution_count": null,
      "outputs": []
    },
    {
      "cell_type": "markdown",
      "metadata": {
        "id": "IoVUmn_Xvgot"
      },
      "source": [
        "## Example solution"
      ]
    },
    {
      "cell_type": "code",
      "metadata": {
        "execution": {
          "iopub.execute_input": "2021-06-30T14:21:45.375760Z",
          "iopub.status.busy": "2021-06-30T14:21:45.375445Z",
          "iopub.status.idle": "2021-06-30T14:21:45.387209Z",
          "shell.execute_reply": "2021-06-30T14:21:45.386545Z",
          "shell.execute_reply.started": "2021-06-30T14:21:45.375724Z"
        },
        "id": "IBSo2dmLU-Th"
      },
      "source": [
        "def example_solution(x):\n",
        "    return x * x + 2\n",
        "\n",
        "evaluate(hashes_easy, example_solution)"
      ],
      "execution_count": null,
      "outputs": []
    },
    {
      "cell_type": "markdown",
      "metadata": {
        "id": "uHq3SeeQx1w-"
      },
      "source": [
        "# Level 1\n",
        "### Explanation of the approach\n",
        "_describe your approach_"
      ]
    },
    {
      "cell_type": "code",
      "metadata": {
        "id": "lyG3zp94x1xH"
      },
      "source": [
        "# this is the placeholder, fill it in as needed\n",
        "# the real answer is always an int, however you can return floats too if you want\n",
        "def solution_easy(x: int) -> Union[int,float]:\n",
        "  return x"
      ],
      "execution_count": null,
      "outputs": []
    },
    {
      "cell_type": "code",
      "metadata": {
        "id": "oVkEW8Agx1xL"
      },
      "source": [
        "evaluate(hashes_easy, solution_easy)"
      ],
      "execution_count": null,
      "outputs": []
    },
    {
      "cell_type": "markdown",
      "metadata": {
        "id": "JcxVZ3TCufNz"
      },
      "source": [
        "# Level 2\n",
        "### Explanation of the approach\n",
        "_describe your approach_"
      ]
    },
    {
      "cell_type": "code",
      "metadata": {
        "id": "j6beZHXhuYbK"
      },
      "source": [
        "# this is the placeholder, fill it in as needed\n",
        "def solution_medium(x: int) -> Union[int,float]:\n",
        "  return x"
      ],
      "execution_count": null,
      "outputs": []
    },
    {
      "cell_type": "code",
      "metadata": {
        "id": "E4YsMpvsvzt1"
      },
      "source": [
        "evaluate(hashes_medium, solution_medium)"
      ],
      "execution_count": null,
      "outputs": []
    },
    {
      "cell_type": "markdown",
      "metadata": {
        "id": "dh_R1s0e87a_"
      },
      "source": [
        "# Level 3\n",
        "### Explanation of the approach\n",
        "_describe your approach_"
      ]
    },
    {
      "cell_type": "code",
      "metadata": {
        "id": "afd-QeDL87bA"
      },
      "source": [
        "# this is the placeholder, fill it in as needed\n",
        "def solution_hard(x: int) -> Union[int,float]:\n",
        "  return x"
      ],
      "execution_count": null,
      "outputs": []
    },
    {
      "cell_type": "code",
      "metadata": {
        "id": "WcqUfjbO87bB"
      },
      "source": [
        "evaluate(hashes_hard, solution_hard)"
      ],
      "execution_count": null,
      "outputs": []
    },
    {
      "cell_type": "markdown",
      "metadata": {
        "id": "bO-IuuUG6pck"
      },
      "source": [
        "# [Optional] Over 9000\n",
        "### No character limit - not for the faint of heart\n",
        "_describe your approach_"
      ]
    },
    {
      "cell_type": "code",
      "metadata": {
        "id": "OcI1IWlK6pcl"
      },
      "source": [
        "# this is the placeholder, fill it in as needed\n",
        "def solution_over_9000(x: int) -> Union[int, float]:\n",
        "  return x"
      ],
      "execution_count": null,
      "outputs": []
    },
    {
      "cell_type": "code",
      "metadata": {
        "id": "AkTjK5ew6pcl"
      },
      "source": [
        "prediction_score(over_9000, solution_over_9000)"
      ],
      "execution_count": null,
      "outputs": []
    },
    {
      "cell_type": "markdown",
      "metadata": {
        "id": "YPWZ8Lthl0l0"
      },
      "source": [
        "# Want to share some feedback? Please do so here!\n"
      ]
    }
  ]
}